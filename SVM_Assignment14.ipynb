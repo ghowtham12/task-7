{
  "nbformat": 4,
  "nbformat_minor": 0,
  "metadata": {
    "colab": {
      "provenance": [],
      "include_colab_link": true
    },
    "kernelspec": {
      "name": "python3",
      "display_name": "Python 3"
    },
    "language_info": {
      "name": "python"
    }
  },
  "cells": [
    {
      "cell_type": "markdown",
      "metadata": {
        "id": "view-in-github",
        "colab_type": "text"
      },
      "source": [
        "<a href=\"https://colab.research.google.com/github/ghowtham12/task-7/blob/main/SVM_Assignment14.ipynb\" target=\"_parent\"><img src=\"https://colab.research.google.com/assets/colab-badge.svg\" alt=\"Open In Colab\"/></a>"
      ]
    },
    {
      "cell_type": "code",
      "metadata": {
        "id": "OTEpzVunhgga"
      },
      "source": [
        "#Social_Network_Ads.csv"
      ],
      "execution_count": 1,
      "outputs": []
    },
    {
      "cell_type": "markdown",
      "metadata": {
        "id": "Qa5Bo_A9h3kB"
      },
      "source": [
        "**Import libraries**"
      ]
    },
    {
      "cell_type": "code",
      "metadata": {
        "id": "pFIDCPu9h1DO"
      },
      "source": [
        "import numpy as np\n",
        "import pandas as pd\n",
        "import matplotlib.pyplot as plt\n",
        "import seaborn as sns\n",
        "from sklearn.model_selection import train_test_split\n",
        "from sklearn.preprocessing import StandardScaler\n",
        "from sklearn.metrics import confusion_matrix,accuracy_score,plot_roc_curve"
      ],
      "execution_count": 2,
      "outputs": []
    },
    {
      "cell_type": "markdown",
      "metadata": {
        "id": "L9CQXJjkiKRq"
      },
      "source": [
        "**Importing the dataset**"
      ]
    },
    {
      "cell_type": "code",
      "metadata": {
        "id": "ZNiJnC7hh1HC",
        "outputId": "4e3898dd-9675-4cc7-b123-ea6bad865774",
        "colab": {
          "base_uri": "https://localhost:8080/",
          "height": 206
        }
      },
      "source": [
        "df=pd.read_csv(\"Social_Network_Ads.csv\")\n",
        "df.head()\n",
        "     "
      ],
      "execution_count": 3,
      "outputs": [
        {
          "output_type": "execute_result",
          "data": {
            "text/plain": [
              "    User ID  Gender  Age  EstimatedSalary  Purchased\n",
              "0  15624510    Male   19            19000          0\n",
              "1  15810944    Male   35            20000          0\n",
              "2  15668575  Female   26            43000          0\n",
              "3  15603246  Female   27            57000          0\n",
              "4  15804002    Male   19            76000          0"
            ],
            "text/html": [
              "\n",
              "  <div id=\"df-3de765ff-1af9-4509-a331-5c41d626fef6\">\n",
              "    <div class=\"colab-df-container\">\n",
              "      <div>\n",
              "<style scoped>\n",
              "    .dataframe tbody tr th:only-of-type {\n",
              "        vertical-align: middle;\n",
              "    }\n",
              "\n",
              "    .dataframe tbody tr th {\n",
              "        vertical-align: top;\n",
              "    }\n",
              "\n",
              "    .dataframe thead th {\n",
              "        text-align: right;\n",
              "    }\n",
              "</style>\n",
              "<table border=\"1\" class=\"dataframe\">\n",
              "  <thead>\n",
              "    <tr style=\"text-align: right;\">\n",
              "      <th></th>\n",
              "      <th>User ID</th>\n",
              "      <th>Gender</th>\n",
              "      <th>Age</th>\n",
              "      <th>EstimatedSalary</th>\n",
              "      <th>Purchased</th>\n",
              "    </tr>\n",
              "  </thead>\n",
              "  <tbody>\n",
              "    <tr>\n",
              "      <th>0</th>\n",
              "      <td>15624510</td>\n",
              "      <td>Male</td>\n",
              "      <td>19</td>\n",
              "      <td>19000</td>\n",
              "      <td>0</td>\n",
              "    </tr>\n",
              "    <tr>\n",
              "      <th>1</th>\n",
              "      <td>15810944</td>\n",
              "      <td>Male</td>\n",
              "      <td>35</td>\n",
              "      <td>20000</td>\n",
              "      <td>0</td>\n",
              "    </tr>\n",
              "    <tr>\n",
              "      <th>2</th>\n",
              "      <td>15668575</td>\n",
              "      <td>Female</td>\n",
              "      <td>26</td>\n",
              "      <td>43000</td>\n",
              "      <td>0</td>\n",
              "    </tr>\n",
              "    <tr>\n",
              "      <th>3</th>\n",
              "      <td>15603246</td>\n",
              "      <td>Female</td>\n",
              "      <td>27</td>\n",
              "      <td>57000</td>\n",
              "      <td>0</td>\n",
              "    </tr>\n",
              "    <tr>\n",
              "      <th>4</th>\n",
              "      <td>15804002</td>\n",
              "      <td>Male</td>\n",
              "      <td>19</td>\n",
              "      <td>76000</td>\n",
              "      <td>0</td>\n",
              "    </tr>\n",
              "  </tbody>\n",
              "</table>\n",
              "</div>\n",
              "      <button class=\"colab-df-convert\" onclick=\"convertToInteractive('df-3de765ff-1af9-4509-a331-5c41d626fef6')\"\n",
              "              title=\"Convert this dataframe to an interactive table.\"\n",
              "              style=\"display:none;\">\n",
              "        \n",
              "  <svg xmlns=\"http://www.w3.org/2000/svg\" height=\"24px\"viewBox=\"0 0 24 24\"\n",
              "       width=\"24px\">\n",
              "    <path d=\"M0 0h24v24H0V0z\" fill=\"none\"/>\n",
              "    <path d=\"M18.56 5.44l.94 2.06.94-2.06 2.06-.94-2.06-.94-.94-2.06-.94 2.06-2.06.94zm-11 1L8.5 8.5l.94-2.06 2.06-.94-2.06-.94L8.5 2.5l-.94 2.06-2.06.94zm10 10l.94 2.06.94-2.06 2.06-.94-2.06-.94-.94-2.06-.94 2.06-2.06.94z\"/><path d=\"M17.41 7.96l-1.37-1.37c-.4-.4-.92-.59-1.43-.59-.52 0-1.04.2-1.43.59L10.3 9.45l-7.72 7.72c-.78.78-.78 2.05 0 2.83L4 21.41c.39.39.9.59 1.41.59.51 0 1.02-.2 1.41-.59l7.78-7.78 2.81-2.81c.8-.78.8-2.07 0-2.86zM5.41 20L4 18.59l7.72-7.72 1.47 1.35L5.41 20z\"/>\n",
              "  </svg>\n",
              "      </button>\n",
              "      \n",
              "  <style>\n",
              "    .colab-df-container {\n",
              "      display:flex;\n",
              "      flex-wrap:wrap;\n",
              "      gap: 12px;\n",
              "    }\n",
              "\n",
              "    .colab-df-convert {\n",
              "      background-color: #E8F0FE;\n",
              "      border: none;\n",
              "      border-radius: 50%;\n",
              "      cursor: pointer;\n",
              "      display: none;\n",
              "      fill: #1967D2;\n",
              "      height: 32px;\n",
              "      padding: 0 0 0 0;\n",
              "      width: 32px;\n",
              "    }\n",
              "\n",
              "    .colab-df-convert:hover {\n",
              "      background-color: #E2EBFA;\n",
              "      box-shadow: 0px 1px 2px rgba(60, 64, 67, 0.3), 0px 1px 3px 1px rgba(60, 64, 67, 0.15);\n",
              "      fill: #174EA6;\n",
              "    }\n",
              "\n",
              "    [theme=dark] .colab-df-convert {\n",
              "      background-color: #3B4455;\n",
              "      fill: #D2E3FC;\n",
              "    }\n",
              "\n",
              "    [theme=dark] .colab-df-convert:hover {\n",
              "      background-color: #434B5C;\n",
              "      box-shadow: 0px 1px 3px 1px rgba(0, 0, 0, 0.15);\n",
              "      filter: drop-shadow(0px 1px 2px rgba(0, 0, 0, 0.3));\n",
              "      fill: #FFFFFF;\n",
              "    }\n",
              "  </style>\n",
              "\n",
              "      <script>\n",
              "        const buttonEl =\n",
              "          document.querySelector('#df-3de765ff-1af9-4509-a331-5c41d626fef6 button.colab-df-convert');\n",
              "        buttonEl.style.display =\n",
              "          google.colab.kernel.accessAllowed ? 'block' : 'none';\n",
              "\n",
              "        async function convertToInteractive(key) {\n",
              "          const element = document.querySelector('#df-3de765ff-1af9-4509-a331-5c41d626fef6');\n",
              "          const dataTable =\n",
              "            await google.colab.kernel.invokeFunction('convertToInteractive',\n",
              "                                                     [key], {});\n",
              "          if (!dataTable) return;\n",
              "\n",
              "          const docLinkHtml = 'Like what you see? Visit the ' +\n",
              "            '<a target=\"_blank\" href=https://colab.research.google.com/notebooks/data_table.ipynb>data table notebook</a>'\n",
              "            + ' to learn more about interactive tables.';\n",
              "          element.innerHTML = '';\n",
              "          dataTable['output_type'] = 'display_data';\n",
              "          await google.colab.output.renderOutput(dataTable, element);\n",
              "          const docLink = document.createElement('div');\n",
              "          docLink.innerHTML = docLinkHtml;\n",
              "          element.appendChild(docLink);\n",
              "        }\n",
              "      </script>\n",
              "    </div>\n",
              "  </div>\n",
              "  "
            ]
          },
          "metadata": {},
          "execution_count": 3
        }
      ]
    },
    {
      "cell_type": "code",
      "source": [
        "df['Gender']=df.Gender.map({\"Male\":0,\"Female\":1})\n",
        "df.head()\n",
        "     "
      ],
      "metadata": {
        "id": "7XcuKH4BBxg9",
        "outputId": "4ba9461d-da81-46d5-d10f-58eb2b20b8b8",
        "colab": {
          "base_uri": "https://localhost:8080/",
          "height": 206
        }
      },
      "execution_count": 4,
      "outputs": [
        {
          "output_type": "execute_result",
          "data": {
            "text/plain": [
              "    User ID  Gender  Age  EstimatedSalary  Purchased\n",
              "0  15624510       0   19            19000          0\n",
              "1  15810944       0   35            20000          0\n",
              "2  15668575       1   26            43000          0\n",
              "3  15603246       1   27            57000          0\n",
              "4  15804002       0   19            76000          0"
            ],
            "text/html": [
              "\n",
              "  <div id=\"df-53d0e355-09b9-4c17-b14a-6d29e00336d7\">\n",
              "    <div class=\"colab-df-container\">\n",
              "      <div>\n",
              "<style scoped>\n",
              "    .dataframe tbody tr th:only-of-type {\n",
              "        vertical-align: middle;\n",
              "    }\n",
              "\n",
              "    .dataframe tbody tr th {\n",
              "        vertical-align: top;\n",
              "    }\n",
              "\n",
              "    .dataframe thead th {\n",
              "        text-align: right;\n",
              "    }\n",
              "</style>\n",
              "<table border=\"1\" class=\"dataframe\">\n",
              "  <thead>\n",
              "    <tr style=\"text-align: right;\">\n",
              "      <th></th>\n",
              "      <th>User ID</th>\n",
              "      <th>Gender</th>\n",
              "      <th>Age</th>\n",
              "      <th>EstimatedSalary</th>\n",
              "      <th>Purchased</th>\n",
              "    </tr>\n",
              "  </thead>\n",
              "  <tbody>\n",
              "    <tr>\n",
              "      <th>0</th>\n",
              "      <td>15624510</td>\n",
              "      <td>0</td>\n",
              "      <td>19</td>\n",
              "      <td>19000</td>\n",
              "      <td>0</td>\n",
              "    </tr>\n",
              "    <tr>\n",
              "      <th>1</th>\n",
              "      <td>15810944</td>\n",
              "      <td>0</td>\n",
              "      <td>35</td>\n",
              "      <td>20000</td>\n",
              "      <td>0</td>\n",
              "    </tr>\n",
              "    <tr>\n",
              "      <th>2</th>\n",
              "      <td>15668575</td>\n",
              "      <td>1</td>\n",
              "      <td>26</td>\n",
              "      <td>43000</td>\n",
              "      <td>0</td>\n",
              "    </tr>\n",
              "    <tr>\n",
              "      <th>3</th>\n",
              "      <td>15603246</td>\n",
              "      <td>1</td>\n",
              "      <td>27</td>\n",
              "      <td>57000</td>\n",
              "      <td>0</td>\n",
              "    </tr>\n",
              "    <tr>\n",
              "      <th>4</th>\n",
              "      <td>15804002</td>\n",
              "      <td>0</td>\n",
              "      <td>19</td>\n",
              "      <td>76000</td>\n",
              "      <td>0</td>\n",
              "    </tr>\n",
              "  </tbody>\n",
              "</table>\n",
              "</div>\n",
              "      <button class=\"colab-df-convert\" onclick=\"convertToInteractive('df-53d0e355-09b9-4c17-b14a-6d29e00336d7')\"\n",
              "              title=\"Convert this dataframe to an interactive table.\"\n",
              "              style=\"display:none;\">\n",
              "        \n",
              "  <svg xmlns=\"http://www.w3.org/2000/svg\" height=\"24px\"viewBox=\"0 0 24 24\"\n",
              "       width=\"24px\">\n",
              "    <path d=\"M0 0h24v24H0V0z\" fill=\"none\"/>\n",
              "    <path d=\"M18.56 5.44l.94 2.06.94-2.06 2.06-.94-2.06-.94-.94-2.06-.94 2.06-2.06.94zm-11 1L8.5 8.5l.94-2.06 2.06-.94-2.06-.94L8.5 2.5l-.94 2.06-2.06.94zm10 10l.94 2.06.94-2.06 2.06-.94-2.06-.94-.94-2.06-.94 2.06-2.06.94z\"/><path d=\"M17.41 7.96l-1.37-1.37c-.4-.4-.92-.59-1.43-.59-.52 0-1.04.2-1.43.59L10.3 9.45l-7.72 7.72c-.78.78-.78 2.05 0 2.83L4 21.41c.39.39.9.59 1.41.59.51 0 1.02-.2 1.41-.59l7.78-7.78 2.81-2.81c.8-.78.8-2.07 0-2.86zM5.41 20L4 18.59l7.72-7.72 1.47 1.35L5.41 20z\"/>\n",
              "  </svg>\n",
              "      </button>\n",
              "      \n",
              "  <style>\n",
              "    .colab-df-container {\n",
              "      display:flex;\n",
              "      flex-wrap:wrap;\n",
              "      gap: 12px;\n",
              "    }\n",
              "\n",
              "    .colab-df-convert {\n",
              "      background-color: #E8F0FE;\n",
              "      border: none;\n",
              "      border-radius: 50%;\n",
              "      cursor: pointer;\n",
              "      display: none;\n",
              "      fill: #1967D2;\n",
              "      height: 32px;\n",
              "      padding: 0 0 0 0;\n",
              "      width: 32px;\n",
              "    }\n",
              "\n",
              "    .colab-df-convert:hover {\n",
              "      background-color: #E2EBFA;\n",
              "      box-shadow: 0px 1px 2px rgba(60, 64, 67, 0.3), 0px 1px 3px 1px rgba(60, 64, 67, 0.15);\n",
              "      fill: #174EA6;\n",
              "    }\n",
              "\n",
              "    [theme=dark] .colab-df-convert {\n",
              "      background-color: #3B4455;\n",
              "      fill: #D2E3FC;\n",
              "    }\n",
              "\n",
              "    [theme=dark] .colab-df-convert:hover {\n",
              "      background-color: #434B5C;\n",
              "      box-shadow: 0px 1px 3px 1px rgba(0, 0, 0, 0.15);\n",
              "      filter: drop-shadow(0px 1px 2px rgba(0, 0, 0, 0.3));\n",
              "      fill: #FFFFFF;\n",
              "    }\n",
              "  </style>\n",
              "\n",
              "      <script>\n",
              "        const buttonEl =\n",
              "          document.querySelector('#df-53d0e355-09b9-4c17-b14a-6d29e00336d7 button.colab-df-convert');\n",
              "        buttonEl.style.display =\n",
              "          google.colab.kernel.accessAllowed ? 'block' : 'none';\n",
              "\n",
              "        async function convertToInteractive(key) {\n",
              "          const element = document.querySelector('#df-53d0e355-09b9-4c17-b14a-6d29e00336d7');\n",
              "          const dataTable =\n",
              "            await google.colab.kernel.invokeFunction('convertToInteractive',\n",
              "                                                     [key], {});\n",
              "          if (!dataTable) return;\n",
              "\n",
              "          const docLinkHtml = 'Like what you see? Visit the ' +\n",
              "            '<a target=\"_blank\" href=https://colab.research.google.com/notebooks/data_table.ipynb>data table notebook</a>'\n",
              "            + ' to learn more about interactive tables.';\n",
              "          element.innerHTML = '';\n",
              "          dataTable['output_type'] = 'display_data';\n",
              "          await google.colab.output.renderOutput(dataTable, element);\n",
              "          const docLink = document.createElement('div');\n",
              "          docLink.innerHTML = docLinkHtml;\n",
              "          element.appendChild(docLink);\n",
              "        }\n",
              "      </script>\n",
              "    </div>\n",
              "  </div>\n",
              "  "
            ]
          },
          "metadata": {},
          "execution_count": 4
        }
      ]
    },
    {
      "cell_type": "markdown",
      "metadata": {
        "id": "GpelPvR4iSxv"
      },
      "source": [
        "**Splitting the dataset into the Training set and Test set**"
      ]
    },
    {
      "cell_type": "code",
      "metadata": {
        "id": "eROg-IDUh1JZ"
      },
      "source": [
        "X=df[[\"Gender\",\"Age\",\"EstimatedSalary\"]].values\n",
        "y=df[\"Purchased\"].values\n",
        "X_train,X_test,y_train,y_test=train_test_split(X,y,test_size=0.2)"
      ],
      "execution_count": 5,
      "outputs": []
    },
    {
      "cell_type": "markdown",
      "metadata": {
        "id": "cwBqfX6WiZOx"
      },
      "source": [
        "**Feature Scaling**"
      ]
    },
    {
      "cell_type": "code",
      "metadata": {
        "id": "yCcfuhv_h1Lw"
      },
      "source": [
        "scaler=StandardScaler()\n",
        "scaler.fit(X_train,y_train)\n",
        "X_train_scaled=scaler.fit_transform(X_train)\n",
        "X_test_scaled=scaler.transform(X_test)\n",
        "     "
      ],
      "execution_count": 6,
      "outputs": []
    },
    {
      "cell_type": "markdown",
      "metadata": {
        "id": "OUGszSAKinhN"
      },
      "source": [
        "**Fitting SVM to the Training set**"
      ]
    },
    {
      "cell_type": "code",
      "metadata": {
        "id": "FLIzMPkOh1Ob",
        "outputId": "ddd4afed-f773-4b48-9020-eddcb9493788",
        "colab": {
          "base_uri": "https://localhost:8080/"
        }
      },
      "source": [
        "from sklearn.svm import SVC #Suport Vector Machine Classifier\n",
        "model = SVC(kernel='linear',random_state = 7)\n",
        "model.fit(X_train_scaled,y_train)\n",
        "model.support_vectors_\n"
      ],
      "execution_count": 7,
      "outputs": [
        {
          "output_type": "execute_result",
          "data": {
            "text/plain": [
              "array([[-1.00626965,  0.03275409,  0.02489921],\n",
              "       [-1.00626965, -0.06429506,  0.0541924 ],\n",
              "       [-1.00626965,  0.42095069, -0.47308504],\n",
              "       [-1.00626965, -0.06429506,  0.11277879],\n",
              "       [ 0.99376941, -0.54954082,  1.37238601],\n",
              "       [ 0.99376941,  0.42095069,  0.14207198],\n",
              "       [ 0.99376941,  0.32390154,  0.02489921],\n",
              "       [-1.00626965,  0.42095069, -0.18015313],\n",
              "       [-1.00626965, -0.25839336,  1.10874729],\n",
              "       [ 0.99376941,  0.03275409, -0.15085993],\n",
              "       [-1.00626965,  0.42095069, -0.15085993],\n",
              "       [ 0.99376941,  0.8091473 ,  0.11277879],\n",
              "       [-1.00626965,  0.32390154, -0.73672376],\n",
              "       [-1.00626965, -0.06429506,  0.14207198],\n",
              "       [ 0.99376941,  0.22685239, -0.29732589],\n",
              "       [ 0.99376941,  0.32390154, -0.56096461],\n",
              "       [ 0.99376941,  0.8091473 ,  0.75722899],\n",
              "       [-1.00626965,  0.22685239, -0.38520546],\n",
              "       [ 0.99376941,  1.29439305,  1.87037025],\n",
              "       [ 0.99376941,  0.22685239,  0.0541924 ],\n",
              "       [ 0.99376941,  0.12980324, -0.2680327 ],\n",
              "       [ 0.99376941,  0.32390154,  0.0541924 ],\n",
              "       [ 0.99376941, -0.06429506,  0.28853793],\n",
              "       [-1.00626965,  0.32390154, -0.53167142],\n",
              "       [-1.00626965,  0.22685239, -0.15085993],\n",
              "       [ 0.99376941,  0.03275409,  0.28853793],\n",
              "       [-1.00626965,  0.8091473 , -0.32661908],\n",
              "       [-1.00626965,  0.42095069, -0.47308504],\n",
              "       [ 0.99376941,  0.12980324,  0.25924474],\n",
              "       [ 0.99376941,  0.32390154,  0.28853793],\n",
              "       [-1.00626965,  0.22685239, -0.38520546],\n",
              "       [-1.00626965,  0.32390154, -0.53167142],\n",
              "       [ 0.99376941,  1.3914422 ,  1.28450643],\n",
              "       [-1.00626965,  0.12980324,  0.20065836],\n",
              "       [ 0.99376941,  0.42095069, -0.00439398],\n",
              "       [-1.00626965, -0.25839336,  0.25924474],\n",
              "       [ 0.99376941, -0.45249167,  1.25521324],\n",
              "       [ 0.99376941, -0.06429506,  0.28853793],\n",
              "       [ 0.99376941,  0.32390154,  0.0541924 ],\n",
              "       [ 0.99376941, -0.16134421,  0.14207198],\n",
              "       [-1.00626965,  1.10029475, -0.15085993],\n",
              "       [-1.00626965,  0.22685239, -0.2680327 ],\n",
              "       [ 0.99376941,  0.12980324,  0.02489921],\n",
              "       [-1.00626965,  0.22685239,  0.14207198],\n",
              "       [ 0.99376941,  0.90619645, -0.67813738],\n",
              "       [-1.00626965,  0.22685239, -0.38520546],\n",
              "       [ 0.99376941,  0.615049  , -0.9124829 ],\n",
              "       [ 0.99376941, -0.74363912,  1.34309281],\n",
              "       [ 0.99376941,  0.22685239,  0.14207198],\n",
              "       [-1.00626965,  0.71209815,  0.25924474],\n",
              "       [ 0.99376941,  0.32390154,  0.0541924 ],\n",
              "       [-1.00626965,  1.10029475,  0.11277879],\n",
              "       [-1.00626965,  1.0032456 ,  2.07542259],\n",
              "       [-1.00626965,  0.32390154,  0.25924474],\n",
              "       [ 0.99376941,  1.1973439 , -0.76601695],\n",
              "       [-1.00626965,  0.32390154,  0.0541924 ],\n",
              "       [ 0.99376941,  0.42095069, -0.50237823],\n",
              "       [ 0.99376941,  0.8091473 , -1.41046715],\n",
              "       [ 0.99376941,  0.03275409,  1.22592005],\n",
              "       [-1.00626965,  0.12980324,  0.02489921],\n",
              "       [-1.00626965,  0.42095069,  0.28853793],\n",
              "       [-1.00626965,  0.42095069, -0.15085993],\n",
              "       [-1.00626965,  0.32390154,  0.49359027],\n",
              "       [ 0.99376941,  0.71209815, -0.73672376],\n",
              "       [-1.00626965,  0.12980324,  1.51885196],\n",
              "       [ 0.99376941,  0.03275409,  1.25521324],\n",
              "       [-1.00626965, -0.35544252,  1.22592005],\n",
              "       [ 0.99376941,  0.42095069,  0.28853793],\n",
              "       [ 0.99376941, -0.06429506,  1.95824983],\n",
              "       [ 0.99376941,  0.8091473 , -1.11753524],\n",
              "       [ 0.99376941,  1.1973439 , -1.46905354],\n",
              "       [-1.00626965,  0.8091473 ,  0.25924474],\n",
              "       [ 0.99376941, -0.06429506,  0.22995155],\n",
              "       [-1.00626965,  0.8091473 , -1.38117396],\n",
              "       [ 0.99376941,  1.0032456 , -1.20541482],\n",
              "       [-1.00626965, -0.84068827,  2.28047493],\n",
              "       [ 0.99376941, -0.54954082,  1.37238601],\n",
              "       [-1.00626965, -0.16134421,  1.4016792 ],\n",
              "       [-1.00626965,  1.10029475, -1.23470801],\n",
              "       [ 0.99376941,  0.90619645, -1.17612162],\n",
              "       [ 0.99376941,  1.3914422 , -0.9417761 ],\n",
              "       [ 0.99376941, -0.06429506,  0.66934942],\n",
              "       [ 0.99376941,  1.1973439 , -1.00036248],\n",
              "       [-1.00626965,  0.90619645, -1.32258758],\n",
              "       [ 0.99376941, -0.25839336,  0.78652218],\n",
              "       [ 0.99376941,  0.90619645, -0.5902578 ],\n",
              "       [-1.00626965, -0.74363912,  1.07945409],\n",
              "       [-1.00626965, -0.54954082,  0.87440176],\n",
              "       [-1.00626965,  0.71209815, -1.11753524],\n",
              "       [ 0.99376941,  0.90619645, -0.61955099],\n",
              "       [-1.00626965,  0.12980324,  1.0501609 ],\n",
              "       [-1.00626965,  1.0032456 ,  0.11277879],\n",
              "       [ 0.99376941,  0.12980324,  0.14207198],\n",
              "       [-1.00626965, -0.16134421,  0.84510856],\n",
              "       [-1.00626965,  0.42095069,  0.08348559],\n",
              "       [ 0.99376941, -0.25839336,  2.25118174],\n",
              "       [ 0.99376941, -0.45249167,  2.30976812],\n",
              "       [ 0.99376941,  1.0032456 , -1.02965567],\n",
              "       [ 0.99376941,  0.42095069,  0.58146984],\n",
              "       [ 0.99376941, -0.16134421,  1.63602473],\n",
              "       [-1.00626965,  1.10029475, -1.23470801],\n",
              "       [ 0.99376941,  1.58554051, -1.29329439],\n",
              "       [-1.00626965, -0.74363912,  1.89966345],\n",
              "       [-1.00626965, -0.16134421,  2.16330217],\n",
              "       [ 0.99376941,  1.3914422 , -1.43976035],\n",
              "       [-1.00626965, -0.54954082,  1.46026558],\n",
              "       [-1.00626965,  1.29439305, -1.38117396],\n",
              "       [-1.00626965,  0.42095069,  0.99157452],\n",
              "       [-1.00626965,  0.22685239,  0.02489921],\n",
              "       [ 0.99376941,  1.10029475, -1.00036248],\n",
              "       [-1.00626965,  0.71209815, -1.41046715],\n",
              "       [-1.00626965, -0.06429506,  0.25924474],\n",
              "       [-1.00626965, -0.16134421,  1.60673153],\n",
              "       [-1.00626965,  1.0032456 , -0.85389652],\n",
              "       [ 0.99376941,  1.10029475, -0.9124829 ],\n",
              "       [ 0.99376941, -1.03478657,  0.75722899],\n",
              "       [ 0.99376941, -0.54954082,  2.33906131],\n",
              "       [-1.00626965,  0.90619645, -1.38117396],\n",
              "       [ 0.99376941, -1.03478657,  1.95824983],\n",
              "       [-1.00626965,  0.8091473 , -1.23470801],\n",
              "       [ 0.99376941,  1.0032456 , -1.17612162],\n",
              "       [ 0.99376941,  0.90619645, -0.56096461],\n",
              "       [-1.00626965, -0.06429506, -0.00439398],\n",
              "       [-1.00626965,  0.71209815, -1.29329439]])"
            ]
          },
          "metadata": {},
          "execution_count": 7
        }
      ]
    },
    {
      "cell_type": "markdown",
      "metadata": {
        "id": "aW3yFyofiqtE"
      },
      "source": [
        "**Predicting the Test set results**"
      ]
    },
    {
      "cell_type": "code",
      "metadata": {
        "id": "aG_OGjavh1Q4",
        "outputId": "238d749a-348c-4931-aca7-f0ffe31c4fb9",
        "colab": {
          "base_uri": "https://localhost:8080/"
        }
      },
      "source": [
        "y_pred=model.predict(X_test_scaled)\n",
        "print(y_pred)\n",
        "\n",
        "print(\"accuracy score:\\n\",accuracy_score(y_test,y_pred))"
      ],
      "execution_count": 8,
      "outputs": [
        {
          "output_type": "stream",
          "name": "stdout",
          "text": [
            "[0 0 1 0 0 1 0 0 0 0 0 0 1 0 1 1 1 1 1 0 1 0 0 0 0 0 0 0 0 0 0 0 0 1 0 0 0\n",
            " 0 0 0 0 0 0 1 0 0 1 1 0 0 1 1 0 0 1 0 0 1 0 0 0 1 1 0 0 1 0 1 0 0 0 1 0 0\n",
            " 0 0 1 0 0 0]\n",
            "accuracy score:\n",
            " 0.825\n"
          ]
        }
      ]
    },
    {
      "cell_type": "markdown",
      "metadata": {
        "id": "4Kfn-chPi4Ts"
      },
      "source": [
        "**Making the Confusion Matrix**"
      ]
    },
    {
      "cell_type": "code",
      "metadata": {
        "id": "G7VPRN2Ah1Tm",
        "outputId": "74624a56-173e-48f4-bbc3-a47010eba289",
        "colab": {
          "base_uri": "https://localhost:8080/",
          "height": 552
        }
      },
      "source": [
        "print(\"Confusion Matrix : \",confusion_matrix(y_test,y_pred))\n",
        "cm=confusion_matrix(y_test,y_pred)\n",
        "plt.figure(figsize=(10,8))\n",
        "sns.heatmap(cm,annot=True)\n",
        "plt.xlabel(\"Actual\")\n",
        "plt.ylabel(\"predicted\")"
      ],
      "execution_count": 11,
      "outputs": [
        {
          "output_type": "stream",
          "name": "stdout",
          "text": [
            "Confusion Matrix :  [[48  5]\n",
            " [ 9 18]]\n"
          ]
        },
        {
          "output_type": "execute_result",
          "data": {
            "text/plain": [
              "Text(69.0, 0.5, 'predicted')"
            ]
          },
          "metadata": {},
          "execution_count": 11
        },
        {
          "output_type": "display_data",
          "data": {
            "text/plain": [
              "<Figure size 720x576 with 2 Axes>"
            ],
            "image/png": "[encoded data removed]"
          },
          "metadata": {
            "needs_background": "light"
          }
        }
      ]
    },
    {
      "cell_type": "markdown",
      "metadata": {
        "id": "7Fo3I-pKi7JQ"
      },
      "source": [
        "**Visualising the Training set results**"
      ]
    },
    {
      "cell_type": "code",
      "metadata": {
        "id": "hI3xXh_oh1XK",
        "outputId": "7697ff31-d20e-474a-b4e4-556c2c136232",
        "colab": {
          "base_uri": "https://localhost:8080/",
          "height": 283
        }
      },
      "source": [
        "plt.scatter(X_train_scaled[:,0],X_train_scaled[:,1],cmap=plt.cm.coolwarm)"
      ],
      "execution_count": 12,
      "outputs": [
        {
          "output_type": "execute_result",
          "data": {
            "text/plain": [
              "<matplotlib.collections.PathCollection at 0x7f5eaa33c400>"
            ]
          },
          "metadata": {},
          "execution_count": 12
        },
        {
          "output_type": "display_data",
          "data": {
            "text/plain": [
              "<Figure size 432x288 with 1 Axes>"
            ],
            "image/png": "[encoded data removed]"
          },
          "metadata": {
            "needs_background": "light"
          }
        }
      ]
    },
    {
      "cell_type": "code",
      "metadata": {
        "id": "YzMdeL7FjHnn",
        "outputId": "ef6bb12c-8760-4133-8445-cc54e81e515f",
        "colab": {
          "base_uri": "https://localhost:8080/",
          "height": 354
        }
      },
      "source": [
        "plot_roc_curve(model,X_test_scaled,y_test)\n",
        "     "
      ],
      "execution_count": 13,
      "outputs": [
        {
          "output_type": "stream",
          "name": "stderr",
          "text": [
            "/usr/local/lib/python3.8/dist-packages/sklearn/utils/deprecation.py:87: FutureWarning: Function plot_roc_curve is deprecated; Function :func:`plot_roc_curve` is deprecated in 1.0 and will be removed in 1.2. Use one of the class methods: :meth:`sklearn.metric.RocCurveDisplay.from_predictions` or :meth:`sklearn.metric.RocCurveDisplay.from_estimator`.\n",
            "  warnings.warn(msg, category=FutureWarning)\n"
          ]
        },
        {
          "output_type": "execute_result",
          "data": {
            "text/plain": [
              "<sklearn.metrics._plot.roc_curve.RocCurveDisplay at 0x7f5eaa7a1520>"
            ]
          },
          "metadata": {},
          "execution_count": 13
        },
        {
          "output_type": "display_data",
          "data": {
            "text/plain": [
              "<Figure size 432x288 with 1 Axes>"
            ],
            "image/png": "[encoded data removed]"
          },
          "metadata": {
            "needs_background": "light"
          }
        }
      ]
    },
    {
      "cell_type": "code",
      "source": [
        "plt.scatter(model.support_vectors_[:,0],model.support_vectors_[:,1])"
      ],
      "metadata": {
        "id": "x_dTIzQ3CPoR",
        "outputId": "75e75f5f-fbab-4cc1-d5a1-fc710a76a3a8",
        "colab": {
          "base_uri": "https://localhost:8080/",
          "height": 283
        }
      },
      "execution_count": 14,
      "outputs": [
        {
          "output_type": "execute_result",
          "data": {
            "text/plain": [
              "<matplotlib.collections.PathCollection at 0x7f5eaa7a9c40>"
            ]
          },
          "metadata": {},
          "execution_count": 14
        },
        {
          "output_type": "display_data",
          "data": {
            "text/plain": [
              "<Figure size 432x288 with 1 Axes>"
            ],
            "image/png": "[encoded data removed]"
          },
          "metadata": {
            "needs_background": "light"
          }
        }
      ]
    },
    {
      "cell_type": "code",
      "source": [
        "plt.scatter(model.support_vectors_[:,0],model.support_vectors_[:,2])"
      ],
      "metadata": {
        "id": "BFTJuUe6CPdU",
        "outputId": "1d641365-595a-471b-b47b-0d79e9bac994",
        "colab": {
          "base_uri": "https://localhost:8080/",
          "height": 286
        }
      },
      "execution_count": 15,
      "outputs": [
        {
          "output_type": "execute_result",
          "data": {
            "text/plain": [
              "<matplotlib.collections.PathCollection at 0x7f5eaa1def40>"
            ]
          },
          "metadata": {},
          "execution_count": 15
        },
        {
          "output_type": "display_data",
          "data": {
            "text/plain": [
              "<Figure size 432x288 with 1 Axes>"
            ],
            "image/png": "[encoded data removed]"
          },
          "metadata": {
            "needs_background": "light"
          }
        }
      ]
    },
    {
      "cell_type": "code",
      "source": [
        "\n",
        "plt.scatter(model.support_vectors_[:,1],model.support_vectors_[:,2])"
      ],
      "metadata": {
        "id": "W-CSTD4RCPSf",
        "outputId": "8f9e5305-c5ba-4734-df9e-bccffbaa104a",
        "colab": {
          "base_uri": "https://localhost:8080/",
          "height": 286
        }
      },
      "execution_count": 16,
      "outputs": [
        {
          "output_type": "execute_result",
          "data": {
            "text/plain": [
              "<matplotlib.collections.PathCollection at 0x7f5eaa1481f0>"
            ]
          },
          "metadata": {},
          "execution_count": 16
        },
        {
          "output_type": "display_data",
          "data": {
            "text/plain": [
              "<Figure size 432x288 with 1 Axes>"
            ],
            "image/png": "[encoded data removed]"
          },
          "metadata": {
            "needs_background": "light"
          }
        }
      ]
    },
    {
      "cell_type": "markdown",
      "metadata": {
        "id": "FudAc9-6jSS9"
      },
      "source": [
        "**Visualising the Test set results**"
      ]
    },
    {
      "cell_type": "code",
      "metadata": {
        "id": "Q3aQCPffjHqj",
        "outputId": "2583852a-b83a-44c9-c115-9817d6ef36c4",
        "colab": {
          "base_uri": "https://localhost:8080/"
        }
      },
      "source": [
        "\n",
        "accuracy_score(y_test,y_pred)"
      ],
      "execution_count": 17,
      "outputs": [
        {
          "output_type": "execute_result",
          "data": {
            "text/plain": [
              "0.825"
            ]
          },
          "metadata": {},
          "execution_count": 17
        }
      ]
    },
    {
      "cell_type": "code",
      "metadata": {
        "id": "da0qhcjeh1a0"
      },
      "source": [],
      "execution_count": null,
      "outputs": []
    }
  ]
}